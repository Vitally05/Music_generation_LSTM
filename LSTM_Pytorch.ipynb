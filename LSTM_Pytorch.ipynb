{
 "cells": [
  {
   "metadata": {
    "ExecuteTime": {
     "end_time": "2025-03-28T14:47:29.317649Z",
     "start_time": "2025-03-28T14:47:27.509825Z"
    }
   },
   "cell_type": "code",
   "source": [
    "import os\n",
    "import numpy as np\n",
    "import torch\n",
    "import torch.nn as nn\n",
    "from music21 import converter, instrument, note, chord\n",
    "from torch.utils.data import Dataset, DataLoader\n",
    "from data_preparation import extract_sub_folders, get_notes, prepare_sequences"
   ],
   "id": "afe167c7e78ff763",
   "outputs": [],
   "execution_count": 1
  },
  {
   "metadata": {
    "ExecuteTime": {
     "end_time": "2025-03-28T14:47:29.552668Z",
     "start_time": "2025-03-28T14:47:29.321342Z"
    }
   },
   "cell_type": "code",
   "source": [
    "source = \".\\\\raw_datasets\\\\\"            # https://www.kaggle.com/datasets/soumikrakshit/classical-music-midi\n",
    "path = \".\\\\datasets\\\\classical_music\"\n",
    "extract_sub_folders(source, path)"
   ],
   "id": "943a943d1ee44087",
   "outputs": [],
   "execution_count": 2
  },
  {
   "metadata": {
    "ExecuteTime": {
     "end_time": "2025-03-28T14:47:29.699156Z",
     "start_time": "2025-03-28T14:47:29.694983Z"
    }
   },
   "cell_type": "code",
   "source": [
    "class MusicLSTM(nn.Module):\n",
    "    def __init__(self, input_size, hidden_size, output_size, num_layers=2, dropout=0.2):\n",
    "        super(MusicLSTM, self).__init__()\n",
    "        self.hidden_size = hidden_size\n",
    "        self.num_layers = num_layers\n",
    "\n",
    "        # We use embeddings to learn better : we are searching for relations between note\n",
    "        self.embedding = nn.Embedding(input_size, hidden_size)\n",
    "\n",
    "        # LSTM and fully connected layers\n",
    "        self.lstm = nn.LSTM(hidden_size, hidden_size, num_layers, batch_first=True, dropout=dropout)\n",
    "        self.fc = nn.Linear(hidden_size, output_size)\n",
    "\n",
    "    def forward(self, x):\n",
    "\n",
    "        x = self.embedding(x)\n",
    "\n",
    "        # Initialize hidden state\n",
    "        h0 = torch.zeros(self.num_layers, x.size(0), self.hidden_size).to(x.device)\n",
    "        c0 = torch.zeros(self.num_layers, x.size(0), self.hidden_size).to(x.device)\n",
    "\n",
    "        # LSTM forward pass\n",
    "        out, _ = self.lstm(x, (h0, c0))  #[batch_size, sequence_length, hidden_size]\n",
    "\n",
    "        out = out[:, -1, :]  # We keep the last sequence\n",
    "\n",
    "        out = self.fc(out)  # Apply the fully connected layer to predict the next note based on the sequence\n",
    "\n",
    "        return out"
   ],
   "id": "a5196d359ce74bf7",
   "outputs": [],
   "execution_count": 3
  },
  {
   "metadata": {
    "ExecuteTime": {
     "end_time": "2025-03-28T14:47:29.708317Z",
     "start_time": "2025-03-28T14:47:29.704801Z"
    }
   },
   "cell_type": "code",
   "source": [
    "def train_music_model(model, train_loader, device, epochs):\n",
    "    model.to(device)\n",
    "    optimizer = torch.optim.Adam(model.parameters(), lr=0.001)\n",
    "    criterion = nn.CrossEntropyLoss()\n",
    "\n",
    "    for epoch in range(epochs):\n",
    "        model.train()\n",
    "        total_loss = 0\n",
    "        for inputs, targets in train_loader:\n",
    "            inputs, targets = inputs.to(device), targets.to(device)\n",
    "\n",
    "            optimizer.zero_grad()\n",
    "            outputs = model(inputs)\n",
    "            loss = criterion(outputs, targets)\n",
    "\n",
    "            loss.backward()\n",
    "            optimizer.step()\n",
    "\n",
    "            total_loss += loss.item()\n",
    "\n",
    "        if epoch % 5 == 0:\n",
    "            torch.save(model.state_dict(), f\"models\\\\epoch_{epoch + 1}.pt\")\n",
    "            print(f\"model saved at epoch {epoch + 1}\")\n",
    "\n",
    "        print(f'Epoch {epoch+1}, Average Loss: {total_loss/len(train_loader):.4f}')\n",
    "\n",
    "    torch.save(model.state_dict(), f\"models\\\\epoch_{epochs + 1}.pt\")\n",
    "    print(f\"model saved at epoch {epochs + 1}\")\n"
   ],
   "id": "7bbbdf661875d64b",
   "outputs": [],
   "execution_count": 4
  },
  {
   "metadata": {
    "ExecuteTime": {
     "end_time": "2025-03-28T14:47:29.716741Z",
     "start_time": "2025-03-28T14:47:29.713349Z"
    }
   },
   "cell_type": "code",
   "source": [
    "def generate_music(model, device, notes, note_to_int, int_to_note, sequence_length=100, generate_length=100):\n",
    "\n",
    "    model.eval()\n",
    "\n",
    "    # Initial sequence is picked at random point in the notes\n",
    "    start_index = np.random.randint(0, len(notes) - sequence_length)\n",
    "    pattern = notes[start_index:start_index + sequence_length]\n",
    "\n",
    "    # It's the beggining of our generated music\n",
    "    generated_notes = list(pattern)\n",
    "\n",
    "    with torch.no_grad():\n",
    "        for _ in range(generate_length):\n",
    "            # Context to tenseur and send to device :\n",
    "            pattern_indices = torch.tensor([note_to_int[note] for note in pattern],\n",
    "                                           dtype=torch.long).unsqueeze(0).to(device)\n",
    "\n",
    "            # Get the prediction from the model\n",
    "            prediction = model(pattern_indices)\n",
    "\n",
    "            # Get the index of the note with the highest probability from the prediction\n",
    "            predicted_index = torch.argmax(prediction, dim=1).item()\n",
    "\n",
    "            # Get the associated note\n",
    "            predicted_note = int_to_note[predicted_index]\n",
    "\n",
    "            generated_notes.append(predicted_note)\n",
    "\n",
    "            # Update the pattern with the new note\n",
    "            pattern = pattern[1:] + [predicted_note]\n",
    "\n",
    "    return generated_notes"
   ],
   "id": "2ff558a7cc370ef1",
   "outputs": [],
   "execution_count": 5
  },
  {
   "metadata": {
    "ExecuteTime": {
     "end_time": "2025-03-28T14:47:29.726795Z",
     "start_time": "2025-03-28T14:47:29.722791Z"
    }
   },
   "cell_type": "code",
   "source": [
    "def save_generated_music_to_midi(generated_notes, output_file='generated_music.mid'):\n",
    "    # Create a music21 stream\n",
    "    stream = converter.stream.Stream()\n",
    "\n",
    "    for note_str in generated_notes:\n",
    "        try:\n",
    "            if '.' in note_str:  # It's a chord\n",
    "                chord_notes = [note.Note(int(p)) for p in note_str.split('.') if p.isdigit()]\n",
    "                c = chord.Chord(chord_notes)\n",
    "\n",
    "                # Set duration based on suffix\n",
    "                if '_short' in note_str:\n",
    "                    c.duration.quarterLength = 0.5\n",
    "                elif '_medium' in note_str:\n",
    "                    c.duration.quarterLength = 1.0\n",
    "                else:\n",
    "                    c.duration.quarterLength = 2.0\n",
    "\n",
    "                stream.append(c)\n",
    "            else:  # It's a single note\n",
    "                pitch = note_str.split('_')[0]\n",
    "                if pitch.isdigit():\n",
    "                    n = note.Note(int(pitch))  # Convert pitch to MIDI note\n",
    "                else:\n",
    "                    n = note.Note(pitch)\n",
    "\n",
    "                # Set duration based on suffix\n",
    "                if '_short' in note_str:\n",
    "                    n.duration.quarterLength = 0.5\n",
    "                elif '_medium' in note_str:\n",
    "                    n.duration.quarterLength = 1.0\n",
    "                else:\n",
    "                    n.duration.quarterLength = 2.0\n",
    "\n",
    "                stream.append(n)\n",
    "        except Exception as e:\n",
    "            print(f\"Error converting {note_str}: {e}\")\n",
    "\n",
    "    # Save as MIDI\n",
    "    stream.write('midi', fp=output_file)"
   ],
   "id": "b7174013c0a8250d",
   "outputs": [],
   "execution_count": 6
  },
  {
   "metadata": {
    "ExecuteTime": {
     "end_time": "2025-03-28T14:47:29.734541Z",
     "start_time": "2025-03-28T14:47:29.732101Z"
    }
   },
   "cell_type": "code",
   "source": [
    "def get_output_name(folder_name):\n",
    "    if not os.path.isdir(folder_name):\n",
    "        os.mkdir(folder_name)\n",
    "\n",
    "    os.listdir(folder_name)\n",
    "    i = 1\n",
    "    for file in os.listdir(folder_name):\n",
    "        if file.endswith('.mid'):\n",
    "            i += 1\n",
    "    final_name = f\"{folder_name}\\\\music{i}.mid\"\n",
    "    return final_name"
   ],
   "id": "ba25fd4e8791134b",
   "outputs": [],
   "execution_count": 7
  },
  {
   "metadata": {
    "ExecuteTime": {
     "end_time": "2025-03-28T14:56:15.738993Z",
     "start_time": "2025-03-28T14:47:29.738544Z"
    }
   },
   "cell_type": "code",
   "source": [
    "device = torch.device(\"cuda\" if torch.cuda.is_available() else \"cpu\")\n",
    "print(f\"Using device: {device}\")\n",
    "\n",
    "notes = get_notes(path)\n",
    "n_vocab = len(set(notes))\n",
    "\n",
    "sequence_length = 100\n",
    "network_input, network_output, note_to_int, int_to_note = prepare_sequences(notes, n_vocab, sequence_length)\n",
    "\n",
    "# Create dataset and dataloader\n",
    "dataset = torch.utils.data.TensorDataset(network_input, network_output)\n",
    "dataloader = DataLoader(dataset, batch_size=64, shuffle=True)\n",
    "\n",
    "# Model parameters\n",
    "input_size = n_vocab\n",
    "hidden_size = 256\n",
    "output_size = n_vocab\n",
    "\n",
    "# Initialize model\n",
    "model = MusicLSTM(input_size, hidden_size, output_size)"
   ],
   "id": "9877576d54c2bcbf",
   "outputs": [
    {
     "name": "stdout",
     "output_type": "stream",
     "text": [
      "Using device: cuda\n"
     ]
    },
    {
     "name": "stderr",
     "output_type": "stream",
     "text": [
      "C:\\Users\\elise\\Documents\\GitHub\\Music_generation_LSTM\\.venv\\Lib\\site-packages\\music21\\midi\\translate.py:874: TranslateWarning: Unable to determine instrument from <music21.midi.MidiEvent SEQUENCE_TRACK_NAME, track=4, channel=None, data=b'Copyright \\xa9 2001 by Bernd Kr\\xfcger'>; getting generic Instrument\n",
      "  warnings.warn(\n",
      "C:\\Users\\elise\\Documents\\GitHub\\Music_generation_LSTM\\.venv\\Lib\\site-packages\\music21\\stream\\base.py:3675: Music21DeprecationWarning: .flat is deprecated.  Call .flatten() instead\n",
      "  return self.iter().getElementsByClass(classFilterList)\n",
      "C:\\Users\\elise\\Documents\\GitHub\\Music_generation_LSTM\\.venv\\Lib\\site-packages\\music21\\stream\\base.py:3675: Music21DeprecationWarning: .flat is deprecated.  Call .flatten() instead\n",
      "  return self.iter().getElementsByClass(classFilterList)\n",
      "C:\\Users\\elise\\Documents\\GitHub\\Music_generation_LSTM\\.venv\\Lib\\site-packages\\music21\\midi\\translate.py:874: TranslateWarning: Unable to determine instrument from <music21.midi.MidiEvent SEQUENCE_TRACK_NAME, track=4, channel=None, data=b'Copyright \\xa9 2001 by Bernd Kr\\xfcger'>; getting generic Instrument\n",
      "  warnings.warn(\n",
      "In C:\\Users\\elise\\Documents\\GitHub\\Music_generation_LSTM\\.venv\\Lib\\site-packages\\matplotlib\\mpl-data\\stylelib\\seaborn-v0_8-deep.mplstyle: .flat is deprecated.  Call .flatten() instead\n",
      "In C:\\Users\\elise\\Documents\\GitHub\\Music_generation_LSTM\\.venv\\Lib\\site-packages\\matplotlib\\mpl-data\\stylelib\\seaborn-v0_8-whitegrid.mplstyle: Unable to determine instrument from <music21.midi.MidiEvent SEQUENCE_TRACK_NAME, track=4, channel=None, data=b'Copyright \\xa9 2001 by Bernd Kr\\xfcger'>; getting generic Instrument\n",
      "C:\\Users\\elise\\Documents\\GitHub\\Music_generation_LSTM\\.venv\\Lib\\site-packages\\music21\\stream\\base.py:3675: Music21DeprecationWarning: .flat is deprecated.  Call .flatten() instead\n",
      "  return self.iter().getElementsByClass(classFilterList)\n",
      "C:\\Users\\elise\\Documents\\GitHub\\Music_generation_LSTM\\.venv\\Lib\\site-packages\\music21\\midi\\translate.py:874: TranslateWarning: Unable to determine instrument from <music21.midi.MidiEvent SEQUENCE_TRACK_NAME, track=4, channel=None, data=b'Copyright \\xa9 2001 by Bernd Kr\\xfcger'>; getting generic Instrument\n",
      "  warnings.warn(\n",
      "C:\\Users\\elise\\Documents\\GitHub\\Music_generation_LSTM\\.venv\\Lib\\site-packages\\music21\\midi\\translate.py:874: TranslateWarning: Unable to determine instrument from <music21.midi.MidiEvent SEQUENCE_TRACK_NAME, track=5, channel=None, data=b'Copyright \\xa9 2001 by Bernd Kr\\xfcger'>; getting generic Instrument\n",
      "  warnings.warn(\n",
      "C:\\Users\\elise\\Documents\\GitHub\\Music_generation_LSTM\\.venv\\Lib\\site-packages\\music21\\midi\\translate.py:874: TranslateWarning: Unable to determine instrument from <music21.midi.MidiEvent SEQUENCE_TRACK_NAME, track=8, channel=None, data=b'Copyright 2004 by Bernd Kr\\xfcger.'>; getting generic Instrument\n",
      "  warnings.warn(\n",
      "C:\\Users\\elise\\Documents\\GitHub\\Music_generation_LSTM\\.venv\\Lib\\site-packages\\music21\\midi\\translate.py:874: TranslateWarning: Unable to determine instrument from <music21.midi.MidiEvent SEQUENCE_TRACK_NAME, track=7, channel=None, data=b'Copyright 2004 by Bernd Kr\\xfcger.'>; getting generic Instrument\n",
      "  warnings.warn(\n",
      "C:\\Users\\elise\\Documents\\GitHub\\Music_generation_LSTM\\.venv\\Lib\\site-packages\\music21\\midi\\translate.py:874: TranslateWarning: Unable to determine instrument from <music21.midi.MidiEvent SEQUENCE_TRACK_NAME, track=0, channel=None, data=b'Pr\\xe4ludium und Fuge in D-Dur, BWV 850'>; getting generic Instrument\n",
      "  warnings.warn(\n",
      "C:\\Users\\elise\\Documents\\GitHub\\Music_generation_LSTM\\.venv\\Lib\\site-packages\\music21\\midi\\translate.py:874: TranslateWarning: Unable to determine instrument from <music21.midi.MidiEvent SEQUENCE_TRACK_NAME, track=8, channel=None, data=b'Copyright 1997 by Bernd Kr\\xfcger.'>; getting generic Instrument\n",
      "  warnings.warn(\n",
      "C:\\Users\\elise\\Documents\\GitHub\\Music_generation_LSTM\\.venv\\Lib\\site-packages\\music21\\midi\\translate.py:874: TranslateWarning: Unable to determine instrument from <music21.midi.MidiEvent SEQUENCE_TRACK_NAME, track=5, channel=None, data=b'Copyright \\xa9 2008 by Bernd Krueger'>; getting generic Instrument\n",
      "  warnings.warn(\n",
      "C:\\Users\\elise\\Documents\\GitHub\\Music_generation_LSTM\\.venv\\Lib\\site-packages\\music21\\midi\\translate.py:874: TranslateWarning: Unable to determine instrument from <music21.midi.MidiEvent SEQUENCE_TRACK_NAME, track=5, channel=None, data=b'Copyright \\xa9 2009 by Bernd Krueger'>; getting generic Instrument\n",
      "  warnings.warn(\n",
      "C:\\Users\\elise\\Documents\\GitHub\\Music_generation_LSTM\\.venv\\Lib\\site-packages\\music21\\midi\\translate.py:874: TranslateWarning: Unable to determine instrument from <music21.midi.MidiEvent SEQUENCE_TRACK_NAME, track=5, channel=None, data=b'Copyright \\xa9 2010 by Bernd Krueger'>; getting generic Instrument\n",
      "  warnings.warn(\n",
      "C:\\Users\\elise\\Documents\\GitHub\\Music_generation_LSTM\\.venv\\Lib\\site-packages\\music21\\midi\\translate.py:874: TranslateWarning: Unable to determine instrument from <music21.midi.MidiEvent SEQUENCE_TRACK_NAME, track=4, channel=None, data=b'Copyright \\xa9 2000 by Bernd Kr\\xfcger'>; getting generic Instrument\n",
      "  warnings.warn(\n",
      "C:\\Users\\elise\\Documents\\GitHub\\Music_generation_LSTM\\.venv\\Lib\\site-packages\\music21\\midi\\translate.py:874: TranslateWarning: Unable to determine instrument from <music21.midi.MidiEvent SEQUENCE_TRACK_NAME, track=4, channel=None, data=b'Copyright \\xa9 1997 by Bernd Kr\\xfcger'>; getting generic Instrument\n",
      "  warnings.warn(\n",
      "C:\\Users\\elise\\Documents\\GitHub\\Music_generation_LSTM\\.venv\\Lib\\site-packages\\music21\\midi\\translate.py:874: TranslateWarning: Unable to determine instrument from <music21.midi.MidiEvent SEQUENCE_TRACK_NAME, track=5, channel=None, data=b'Copyright \\xa9 2005 by Bernd Kr\\xfcger'>; getting generic Instrument\n",
      "  warnings.warn(\n",
      "C:\\Users\\elise\\Documents\\GitHub\\Music_generation_LSTM\\.venv\\Lib\\site-packages\\music21\\midi\\translate.py:874: TranslateWarning: Unable to determine instrument from <music21.midi.MidiEvent SEQUENCE_TRACK_NAME, track=4, channel=None, data=b'Copyright \\xa9 1999 by Bernd Kr\\xfcger'>; getting generic Instrument\n",
      "  warnings.warn(\n",
      "C:\\Users\\elise\\Documents\\GitHub\\Music_generation_LSTM\\.venv\\Lib\\site-packages\\music21\\midi\\translate.py:874: TranslateWarning: Unable to determine instrument from <music21.midi.MidiEvent SEQUENCE_TRACK_NAME, track=4, channel=None, data=b'Produced 1997 by Bernd Kr\\xfcger.'>; getting generic Instrument\n",
      "  warnings.warn(\n",
      "C:\\Users\\elise\\Documents\\GitHub\\Music_generation_LSTM\\.venv\\Lib\\site-packages\\music21\\midi\\translate.py:874: TranslateWarning: Unable to determine instrument from <music21.midi.MidiEvent SEQUENCE_TRACK_NAME, track=4, channel=None, data=b'Copyright \\xa9 2012 by Bernd Kr\\xfcger'>; getting generic Instrument\n",
      "  warnings.warn(\n",
      "C:\\Users\\elise\\Documents\\GitHub\\Music_generation_LSTM\\.venv\\Lib\\site-packages\\music21\\midi\\translate.py:874: TranslateWarning: Unable to determine instrument from <music21.midi.MidiEvent SEQUENCE_TRACK_NAME, track=5, channel=None, data=b'Copyright \\xa9 2004 by Bernd Kr\\xfcger'>; getting generic Instrument\n",
      "  warnings.warn(\n",
      "C:\\Users\\elise\\Documents\\GitHub\\Music_generation_LSTM\\.venv\\Lib\\site-packages\\music21\\midi\\translate.py:874: TranslateWarning: Unable to determine instrument from <music21.midi.MidiEvent SEQUENCE_TRACK_NAME, track=5, channel=None, data=b'Copyright \\xa9 2012 by Bernd Kr\\xfcger'>; getting generic Instrument\n",
      "  warnings.warn(\n",
      "C:\\Users\\elise\\Documents\\GitHub\\Music_generation_LSTM\\.venv\\Lib\\site-packages\\music21\\midi\\translate.py:874: TranslateWarning: Unable to determine instrument from <music21.midi.MidiEvent SEQUENCE_TRACK_NAME, track=4, channel=None, data=b'Copyright \\xa9 2004 by Bernd Kr\\xfcger'>; getting generic Instrument\n",
      "  warnings.warn(\n",
      "C:\\Users\\elise\\Documents\\GitHub\\Music_generation_LSTM\\.venv\\Lib\\site-packages\\music21\\midi\\translate.py:874: TranslateWarning: Unable to determine instrument from <music21.midi.MidiEvent SEQUENCE_TRACK_NAME, track=4, channel=None, data=b'Copyright \\xa9 2002 by Bernd Krueger'>; getting generic Instrument\n",
      "  warnings.warn(\n",
      "C:\\Users\\elise\\Documents\\GitHub\\Music_generation_LSTM\\.venv\\Lib\\site-packages\\music21\\midi\\translate.py:874: TranslateWarning: Unable to determine instrument from <music21.midi.MidiEvent SEQUENCE_TRACK_NAME, track=4, channel=None, data=b'Copyright \\xa9 1997 by Bernd Krueger'>; getting generic Instrument\n",
      "  warnings.warn(\n",
      "C:\\Users\\elise\\Documents\\GitHub\\Music_generation_LSTM\\.venv\\Lib\\site-packages\\music21\\midi\\translate.py:874: TranslateWarning: Unable to determine instrument from <music21.midi.MidiEvent SEQUENCE_TRACK_NAME, track=5, channel=None, data=b'Copyright \\xa9 1997 by Bernd Krueger'>; getting generic Instrument\n",
      "  warnings.warn(\n",
      "C:\\Users\\elise\\Documents\\GitHub\\Music_generation_LSTM\\.venv\\Lib\\site-packages\\music21\\midi\\translate.py:874: TranslateWarning: Unable to determine instrument from <music21.midi.MidiEvent SEQUENCE_TRACK_NAME, track=0, channel=None, data=b'Et\\xfcde Opus 10 No. 5'>; getting generic Instrument\n",
      "  warnings.warn(\n",
      "C:\\Users\\elise\\Documents\\GitHub\\Music_generation_LSTM\\.venv\\Lib\\site-packages\\music21\\midi\\translate.py:874: TranslateWarning: Unable to determine instrument from <music21.midi.MidiEvent SEQUENCE_TRACK_NAME, track=0, channel=None, data=b'Schwarze-Tasten-Et\\xfcde'>; getting generic Instrument\n",
      "  warnings.warn(\n",
      "C:\\Users\\elise\\Documents\\GitHub\\Music_generation_LSTM\\.venv\\Lib\\site-packages\\music21\\midi\\translate.py:874: TranslateWarning: Unable to determine instrument from <music21.midi.MidiEvent SEQUENCE_TRACK_NAME, track=0, channel=None, data=b'Et\\xfcde Nr. 12'>; getting generic Instrument\n",
      "  warnings.warn(\n",
      "C:\\Users\\elise\\Documents\\GitHub\\Music_generation_LSTM\\.venv\\Lib\\site-packages\\music21\\midi\\translate.py:874: TranslateWarning: Unable to determine instrument from <music21.midi.MidiEvent SEQUENCE_TRACK_NAME, track=4, channel=None, data=b'Copyright \\xa9 2003 by Bernd Krueger'>; getting generic Instrument\n",
      "  warnings.warn(\n",
      "C:\\Users\\elise\\Documents\\GitHub\\Music_generation_LSTM\\.venv\\Lib\\site-packages\\music21\\midi\\translate.py:874: TranslateWarning: Unable to determine instrument from <music21.midi.MidiEvent SEQUENCE_TRACK_NAME, track=5, channel=None, data=b'Copyright \\xa9 2002 by Bernd Krueger'>; getting generic Instrument\n",
      "  warnings.warn(\n",
      "C:\\Users\\elise\\Documents\\GitHub\\Music_generation_LSTM\\.venv\\Lib\\site-packages\\music21\\midi\\translate.py:874: TranslateWarning: Unable to determine instrument from <music21.midi.MidiEvent SEQUENCE_TRACK_NAME, track=0, channel=None, data=b'Et\\xfcde Opus 25, No. 11'>; getting generic Instrument\n",
      "  warnings.warn(\n",
      "C:\\Users\\elise\\Documents\\GitHub\\Music_generation_LSTM\\.venv\\Lib\\site-packages\\music21\\midi\\translate.py:874: TranslateWarning: Unable to determine instrument from <music21.midi.MidiEvent SEQUENCE_TRACK_NAME, track=0, channel=None, data=b'Sturmet\\xfcde'>; getting generic Instrument\n",
      "  warnings.warn(\n",
      "C:\\Users\\elise\\Documents\\GitHub\\Music_generation_LSTM\\.venv\\Lib\\site-packages\\music21\\midi\\translate.py:874: TranslateWarning: Unable to determine instrument from <music21.midi.MidiEvent SEQUENCE_TRACK_NAME, track=5, channel=None, data=b'Copyright \\xa9 2002 by Bernd Kr\\xfcger'>; getting generic Instrument\n",
      "  warnings.warn(\n",
      "C:\\Users\\elise\\Documents\\GitHub\\Music_generation_LSTM\\.venv\\Lib\\site-packages\\music21\\midi\\translate.py:874: TranslateWarning: Unable to determine instrument from <music21.midi.MidiEvent SEQUENCE_TRACK_NAME, track=4, channel=None, data=b'Copyright \\xa9 2002 by Bernd Kr\\xfcger'>; getting generic Instrument\n",
      "  warnings.warn(\n",
      "C:\\Users\\elise\\Documents\\GitHub\\Music_generation_LSTM\\.venv\\Lib\\site-packages\\music21\\midi\\translate.py:874: TranslateWarning: Unable to determine instrument from <music21.midi.MidiEvent SEQUENCE_TRACK_NAME, track=4, channel=None, data=b'Copyright \\xa9 1998 by Bernd Kr\\xfcger'>; getting generic Instrument\n",
      "  warnings.warn(\n",
      "C:\\Users\\elise\\Documents\\GitHub\\Music_generation_LSTM\\.venv\\Lib\\site-packages\\music21\\midi\\translate.py:874: TranslateWarning: Unable to determine instrument from <music21.midi.MidiEvent SEQUENCE_TRACK_NAME, track=5, channel=None, data=b'Copyright \\xa9 1998 by Bernd Kr\\xfcger'>; getting generic Instrument\n",
      "  warnings.warn(\n",
      "C:\\Users\\elise\\Documents\\GitHub\\Music_generation_LSTM\\.venv\\Lib\\site-packages\\music21\\midi\\translate.py:874: TranslateWarning: Unable to determine instrument from <music21.midi.MidiEvent SEQUENCE_TRACK_NAME, track=0, channel=None, data=b'F\\xfcr Elise'>; getting generic Instrument\n",
      "  warnings.warn(\n",
      "C:\\Users\\elise\\Documents\\GitHub\\Music_generation_LSTM\\.venv\\Lib\\site-packages\\music21\\midi\\translate.py:874: TranslateWarning: Unable to determine instrument from <music21.midi.MidiEvent SEQUENCE_TRACK_NAME, track=3, channel=None, data=b'Beethoven F\\xfcr Elise'>; getting generic Instrument\n",
      "  warnings.warn(\n",
      "C:\\Users\\elise\\Documents\\GitHub\\Music_generation_LSTM\\.venv\\Lib\\site-packages\\music21\\midi\\translate.py:874: TranslateWarning: Unable to determine instrument from <music21.midi.MidiEvent SEQUENCE_TRACK_NAME, track=0, channel=None, data=b'Grieg: Lyrische St\\xfccke, Albumblatt, Opus 42 Nr. 2'>; getting generic Instrument\n",
      "  warnings.warn(\n",
      "C:\\Users\\elise\\Documents\\GitHub\\Music_generation_LSTM\\.venv\\Lib\\site-packages\\music21\\midi\\translate.py:874: TranslateWarning: Unable to determine instrument from <music21.midi.MidiEvent SEQUENCE_TRACK_NAME, track=5, channel=None, data=b'Copyright \\xa9 2012 by Bernd Krueger'>; getting generic Instrument\n",
      "  warnings.warn(\n",
      "C:\\Users\\elise\\Documents\\GitHub\\Music_generation_LSTM\\.venv\\Lib\\site-packages\\music21\\midi\\translate.py:874: TranslateWarning: Unable to determine instrument from <music21.midi.MidiEvent SEQUENCE_TRACK_NAME, track=0, channel=None, data=b'Grieg: Lyrische St\\xfccke, B\\xe4chlein, Opus 62 Nr. 4'>; getting generic Instrument\n",
      "  warnings.warn(\n",
      "C:\\Users\\elise\\Documents\\GitHub\\Music_generation_LSTM\\.venv\\Lib\\site-packages\\music21\\midi\\translate.py:874: TranslateWarning: Unable to determine instrument from <music21.midi.MidiEvent SEQUENCE_TRACK_NAME, track=0, channel=None, data=b'Grieg: Lyrische St\\xfccke Op. 43 No. 1 - Schmetterling'>; getting generic Instrument\n",
      "  warnings.warn(\n",
      "C:\\Users\\elise\\Documents\\GitHub\\Music_generation_LSTM\\.venv\\Lib\\site-packages\\music21\\midi\\translate.py:874: TranslateWarning: Unable to determine instrument from <music21.midi.MidiEvent SEQUENCE_TRACK_NAME, track=5, channel=None, data=b'Copyright \\xa9 2007 by Bernd Krueger'>; getting generic Instrument\n",
      "  warnings.warn(\n",
      "C:\\Users\\elise\\Documents\\GitHub\\Music_generation_LSTM\\.venv\\Lib\\site-packages\\music21\\midi\\translate.py:874: TranslateWarning: Unable to determine instrument from <music21.midi.MidiEvent SEQUENCE_TRACK_NAME, track=0, channel=None, data=b'Grieg: Lyrische St\\xfccke Op. 12 Nr. 4 Elfentanz'>; getting generic Instrument\n",
      "  warnings.warn(\n",
      "C:\\Users\\elise\\Documents\\GitHub\\Music_generation_LSTM\\.venv\\Lib\\site-packages\\music21\\midi\\translate.py:874: TranslateWarning: Unable to determine instrument from <music21.midi.MidiEvent SEQUENCE_TRACK_NAME, track=0, channel=None, data=b'Grieg: Lyrische St\\xfccke Book II Opus 38 Nr. 4 - Halling'>; getting generic Instrument\n",
      "  warnings.warn(\n",
      "C:\\Users\\elise\\Documents\\GitHub\\Music_generation_LSTM\\.venv\\Lib\\site-packages\\music21\\midi\\translate.py:874: TranslateWarning: Unable to determine instrument from <music21.midi.MidiEvent SEQUENCE_TRACK_NAME, track=4, channel=None, data=b'Copyright \\xa9 1998 by Bernd Krueger'>; getting generic Instrument\n",
      "  warnings.warn(\n",
      "C:\\Users\\elise\\Documents\\GitHub\\Music_generation_LSTM\\.venv\\Lib\\site-packages\\music21\\midi\\translate.py:874: TranslateWarning: Unable to determine instrument from <music21.midi.MidiEvent SEQUENCE_TRACK_NAME, track=0, channel=None, data=b'Grieg: Lyrische St\\xfccke, Norwegischer Bauernmarsch, Opus 54 Nr. 2'>; getting generic Instrument\n",
      "  warnings.warn(\n",
      "C:\\Users\\elise\\Documents\\GitHub\\Music_generation_LSTM\\.venv\\Lib\\site-packages\\music21\\midi\\translate.py:874: TranslateWarning: Unable to determine instrument from <music21.midi.MidiEvent SEQUENCE_TRACK_NAME, track=0, channel=None, data=b'Grieg: Lyrische St\\xfccke, Es war einmal, Opus 71 Nr. 1'>; getting generic Instrument\n",
      "  warnings.warn(\n",
      "C:\\Users\\elise\\Documents\\GitHub\\Music_generation_LSTM\\.venv\\Lib\\site-packages\\music21\\midi\\translate.py:874: TranslateWarning: Unable to determine instrument from <music21.midi.MidiEvent SEQUENCE_TRACK_NAME, track=0, channel=None, data=b'Grieg: Lyrische St\\xfccke Op. 43 Nr. 6 Book III - An den Fr\\xfchling'>; getting generic Instrument\n",
      "  warnings.warn(\n",
      "C:\\Users\\elise\\Documents\\GitHub\\Music_generation_LSTM\\.venv\\Lib\\site-packages\\music21\\midi\\translate.py:874: TranslateWarning: Unable to determine instrument from <music21.midi.MidiEvent SEQUENCE_TRACK_NAME, track=0, channel=None, data=b'V\\xf6glein Op 43, No. 4'>; getting generic Instrument\n",
      "  warnings.warn(\n",
      "C:\\Users\\elise\\Documents\\GitHub\\Music_generation_LSTM\\.venv\\Lib\\site-packages\\music21\\midi\\translate.py:874: TranslateWarning: Unable to determine instrument from <music21.midi.MidiEvent SEQUENCE_TRACK_NAME, track=3, channel=None, data=b'Grieg: V\\xf6glein, Op. 43 No. 4'>; getting generic Instrument\n",
      "  warnings.warn(\n",
      "C:\\Users\\elise\\Documents\\GitHub\\Music_generation_LSTM\\.venv\\Lib\\site-packages\\music21\\midi\\translate.py:874: TranslateWarning: Unable to determine instrument from <music21.midi.MidiEvent SEQUENCE_TRACK_NAME, track=0, channel=None, data=b'W\\xe4chterlied Op12, No. 3'>; getting generic Instrument\n",
      "  warnings.warn(\n",
      "C:\\Users\\elise\\Documents\\GitHub\\Music_generation_LSTM\\.venv\\Lib\\site-packages\\music21\\midi\\translate.py:874: TranslateWarning: Unable to determine instrument from <music21.midi.MidiEvent SEQUENCE_TRACK_NAME, track=0, channel=None, data=b'Grieg: Lyrische St\\xfccke Op. 43 Nr. 2 - Einsamer Wanderer'>; getting generic Instrument\n",
      "  warnings.warn(\n",
      "C:\\Users\\elise\\Documents\\GitHub\\Music_generation_LSTM\\.venv\\Lib\\site-packages\\music21\\midi\\translate.py:874: TranslateWarning: Unable to determine instrument from <music21.midi.MidiEvent SEQUENCE_TRACK_NAME, track=5, channel=None, data=b'Copyright \\xa9 1998 by Bernd Krueger'>; getting generic Instrument\n",
      "  warnings.warn(\n",
      "C:\\Users\\elise\\Documents\\GitHub\\Music_generation_LSTM\\.venv\\Lib\\site-packages\\music21\\midi\\translate.py:874: TranslateWarning: Unable to determine instrument from <music21.midi.MidiEvent SEQUENCE_TRACK_NAME, track=6, channel=None, data=b'Copyright \\xa9 2004 by Bernd Kr\\xfcger'>; getting generic Instrument\n",
      "  warnings.warn(\n",
      "C:\\Users\\elise\\Documents\\GitHub\\Music_generation_LSTM\\.venv\\Lib\\site-packages\\music21\\midi\\translate.py:874: TranslateWarning: Unable to determine instrument from <music21.midi.MidiEvent SEQUENCE_TRACK_NAME, track=5, channel=None, data=b'Copyright \\xa9 2006 by Bernd Krueger'>; getting generic Instrument\n",
      "  warnings.warn(\n",
      "C:\\Users\\elise\\Documents\\GitHub\\Music_generation_LSTM\\.venv\\Lib\\site-packages\\music21\\midi\\translate.py:874: TranslateWarning: Unable to determine instrument from <music21.midi.MidiEvent SEQUENCE_TRACK_NAME, track=6, channel=None, data=b'Copyright \\xa9 2010 by Bernd Krueger'>; getting generic Instrument\n",
      "  warnings.warn(\n",
      "C:\\Users\\elise\\Documents\\GitHub\\Music_generation_LSTM\\.venv\\Lib\\site-packages\\music21\\midi\\translate.py:874: TranslateWarning: Unable to determine instrument from <music21.midi.MidiEvent SEQUENCE_TRACK_NAME, track=0, channel=None, data=b'J\\xe4gerlied'>; getting generic Instrument\n",
      "  warnings.warn(\n",
      "C:\\Users\\elise\\Documents\\GitHub\\Music_generation_LSTM\\.venv\\Lib\\site-packages\\music21\\midi\\translate.py:874: TranslateWarning: Unable to determine instrument from <music21.midi.MidiEvent SEQUENCE_TRACK_NAME, track=5, channel=None, data=b'Copyright \\xa9 2000 by Bernd Kr\\xfcger'>; getting generic Instrument\n",
      "  warnings.warn(\n",
      "C:\\Users\\elise\\Documents\\GitHub\\Music_generation_LSTM\\.venv\\Lib\\site-packages\\music21\\midi\\translate.py:874: TranslateWarning: Unable to determine instrument from <music21.midi.MidiEvent SEQUENCE_TRACK_NAME, track=0, channel=None, data=b'Mondscheinsonate; der Gr\\xe4fin Giulietta Guiccardi gewidmet'>; getting generic Instrument\n",
      "  warnings.warn(\n",
      "C:\\Users\\elise\\Documents\\GitHub\\Music_generation_LSTM\\.venv\\Lib\\site-packages\\music21\\midi\\translate.py:874: TranslateWarning: Unable to determine instrument from <music21.midi.MidiEvent SEQUENCE_TRACK_NAME, track=6, channel=None, data=b'Copyright \\xa9 1998 by Bernd Krueger'>; getting generic Instrument\n",
      "  warnings.warn(\n",
      "C:\\Users\\elise\\Documents\\GitHub\\Music_generation_LSTM\\.venv\\Lib\\site-packages\\music21\\midi\\translate.py:874: TranslateWarning: Unable to determine instrument from <music21.midi.MidiEvent SEQUENCE_TRACK_NAME, track=6, channel=None, data=b'Copyright \\xa9 2000 by Bernd Kr\\xfcger'>; getting generic Instrument\n",
      "  warnings.warn(\n",
      "C:\\Users\\elise\\Documents\\GitHub\\Music_generation_LSTM\\.venv\\Lib\\site-packages\\music21\\midi\\translate.py:874: TranslateWarning: Unable to determine instrument from <music21.midi.MidiEvent SEQUENCE_TRACK_NAME, track=0, channel=None, data=b'Promenade - Ballett der K\\xfcchlein  in ihren Eierschalen'>; getting generic Instrument\n",
      "  warnings.warn(\n",
      "C:\\Users\\elise\\Documents\\GitHub\\Music_generation_LSTM\\.venv\\Lib\\site-packages\\music21\\midi\\translate.py:874: TranslateWarning: Unable to determine instrument from <music21.midi.MidiEvent SEQUENCE_TRACK_NAME, track=0, channel=None, data=b'Baba-Yaga  - Das gro\\xdfe Tor von Kiew'>; getting generic Instrument\n",
      "  warnings.warn(\n",
      "C:\\Users\\elise\\Documents\\GitHub\\Music_generation_LSTM\\.venv\\Lib\\site-packages\\music21\\midi\\translate.py:874: TranslateWarning: Unable to determine instrument from <music21.midi.MidiEvent SEQUENCE_TRACK_NAME, track=5, channel=None, data=b'Copyright \\xa9 2006 by Bernd Kr\\xfcger'>; getting generic Instrument\n",
      "  warnings.warn(\n",
      "C:\\Users\\elise\\Documents\\GitHub\\Music_generation_LSTM\\.venv\\Lib\\site-packages\\music21\\midi\\translate.py:874: TranslateWarning: Unable to determine instrument from <music21.midi.MidiEvent SEQUENCE_TRACK_NAME, track=5, channel=None, data=b'Copyright \\xa9 1997 by Bernd Kr\\xfcger'>; getting generic Instrument\n",
      "  warnings.warn(\n",
      "C:\\Users\\elise\\Documents\\GitHub\\Music_generation_LSTM\\.venv\\Lib\\site-packages\\music21\\midi\\translate.py:874: TranslateWarning: Unable to determine instrument from <music21.midi.MidiEvent SEQUENCE_TRACK_NAME, track=4, channel=None, data=b'Beethoven Sonata No. 8 C minor, Grand Sonate path\\xe9tique 1. Movement'>; getting generic Instrument\n",
      "  warnings.warn(\n",
      "C:\\Users\\elise\\Documents\\GitHub\\Music_generation_LSTM\\.venv\\Lib\\site-packages\\music21\\midi\\translate.py:874: TranslateWarning: Unable to determine instrument from <music21.midi.MidiEvent SEQUENCE_TRACK_NAME, track=5, channel=None, data=b'Copyright \\xa9 2003 by Bernd Krueger'>; getting generic Instrument\n",
      "  warnings.warn(\n",
      "C:\\Users\\elise\\Documents\\GitHub\\Music_generation_LSTM\\.venv\\Lib\\site-packages\\music21\\midi\\translate.py:874: TranslateWarning: Unable to determine instrument from <music21.midi.MidiEvent SEQUENCE_TRACK_NAME, track=6, channel=None, data=b'Beethoven Sonata No. 8 C minor, Grand Sonate path\\xe9tique 2. Movement'>; getting generic Instrument\n",
      "  warnings.warn(\n",
      "C:\\Users\\elise\\Documents\\GitHub\\Music_generation_LSTM\\.venv\\Lib\\site-packages\\music21\\midi\\translate.py:874: TranslateWarning: Unable to determine instrument from <music21.midi.MidiEvent SEQUENCE_TRACK_NAME, track=7, channel=None, data=b'Copyright \\xa9 2003 by Bernd Krueger'>; getting generic Instrument\n",
      "  warnings.warn(\n",
      "C:\\Users\\elise\\Documents\\GitHub\\Music_generation_LSTM\\.venv\\Lib\\site-packages\\music21\\midi\\translate.py:874: TranslateWarning: Unable to determine instrument from <music21.midi.MidiEvent SEQUENCE_TRACK_NAME, track=4, channel=None, data=b'Beethoven Sonata No. 8 C minor, Grand Sonate path\\xe9tique 3. Movement'>; getting generic Instrument\n",
      "  warnings.warn(\n",
      "C:\\Users\\elise\\Documents\\GitHub\\Music_generation_LSTM\\.venv\\Lib\\site-packages\\music21\\midi\\translate.py:874: TranslateWarning: Unable to determine instrument from <music21.midi.MidiEvent SEQUENCE_TRACK_NAME, track=4, channel=None, data=b'Copyright \\xa9 1996 by Bernd Krueger'>; getting generic Instrument\n",
      "  warnings.warn(\n",
      "C:\\Users\\elise\\Documents\\GitHub\\Music_generation_LSTM\\.venv\\Lib\\site-packages\\music21\\midi\\translate.py:874: TranslateWarning: Unable to determine instrument from <music21.midi.MidiEvent SEQUENCE_TRACK_NAME, track=4, channel=None, data=b'Copyright \\xa9 1999 by Bernd Krueger'>; getting generic Instrument\n",
      "  warnings.warn(\n",
      "C:\\Users\\elise\\Documents\\GitHub\\Music_generation_LSTM\\.venv\\Lib\\site-packages\\music21\\midi\\translate.py:874: TranslateWarning: Unable to determine instrument from <music21.midi.MidiEvent SEQUENCE_TRACK_NAME, track=0, channel=None, data=b'Von fremden L\\xe4ndern und Menschen'>; getting generic Instrument\n",
      "  warnings.warn(\n",
      "C:\\Users\\elise\\Documents\\GitHub\\Music_generation_LSTM\\.venv\\Lib\\site-packages\\music21\\midi\\translate.py:874: TranslateWarning: Unable to determine instrument from <music21.midi.MidiEvent SEQUENCE_TRACK_NAME, track=0, channel=None, data=b'F\\xfcrchtenmachen'>; getting generic Instrument\n",
      "  warnings.warn(\n",
      "C:\\Users\\elise\\Documents\\GitHub\\Music_generation_LSTM\\.venv\\Lib\\site-packages\\music21\\midi\\translate.py:874: TranslateWarning: Unable to determine instrument from <music21.midi.MidiEvent SEQUENCE_TRACK_NAME, track=0, channel=None, data=b'Gl\\xfcckes genug'>; getting generic Instrument\n",
      "  warnings.warn(\n",
      "C:\\Users\\elise\\Documents\\GitHub\\Music_generation_LSTM\\.venv\\Lib\\site-packages\\music21\\midi\\translate.py:874: TranslateWarning: Unable to determine instrument from <music21.midi.MidiEvent SEQUENCE_TRACK_NAME, track=0, channel=None, data=b'Tr\\xe4umerei'>; getting generic Instrument\n",
      "  warnings.warn(\n",
      "C:\\Users\\elise\\Documents\\GitHub\\Music_generation_LSTM\\.venv\\Lib\\site-packages\\music21\\midi\\translate.py:874: TranslateWarning: Unable to determine instrument from <music21.midi.MidiEvent SEQUENCE_TRACK_NAME, track=0, channel=None, data=b'Schumann:   Fr\\xf6hlicher Landmann, von der Arbeit zur\\xfcckkehrend'>; getting generic Instrument\n",
      "  warnings.warn(\n",
      "C:\\Users\\elise\\Documents\\GitHub\\Music_generation_LSTM\\.venv\\Lib\\site-packages\\music21\\midi\\translate.py:874: TranslateWarning: Unable to determine instrument from <music21.midi.MidiEvent SEQUENCE_TRACK_NAME, track=0, channel=None, data=b'aus Album f\\xfcr die Jugend Opus 68, Nr. 10'>; getting generic Instrument\n",
      "  warnings.warn(\n",
      "C:\\Users\\elise\\Documents\\GitHub\\Music_generation_LSTM\\.venv\\Lib\\site-packages\\music21\\midi\\translate.py:874: TranslateWarning: Unable to determine instrument from <music21.midi.MidiEvent SEQUENCE_TRACK_NAME, track=4, channel=None, data=b'Schumann: Fr\\xf6hlicher Landmann'>; getting generic Instrument\n",
      "  warnings.warn(\n",
      "C:\\Users\\elise\\Documents\\GitHub\\Music_generation_LSTM\\.venv\\Lib\\site-packages\\music21\\midi\\translate.py:874: TranslateWarning: Unable to determine instrument from <music21.midi.MidiEvent SEQUENCE_TRACK_NAME, track=0, channel=None, data=b'Schumann: Knecht Ruprecht aus  Album f\\xfcr die Jugend Opus 68'>; getting generic Instrument\n",
      "  warnings.warn(\n",
      "C:\\Users\\elise\\Documents\\GitHub\\Music_generation_LSTM\\.venv\\Lib\\site-packages\\music21\\midi\\translate.py:874: TranslateWarning: Unable to determine instrument from <music21.midi.MidiEvent SEQUENCE_TRACK_NAME, track=6, channel=None, data=b'Copyright \\xa9 2003 by Bernd Krueger'>; getting generic Instrument\n",
      "  warnings.warn(\n"
     ]
    }
   ],
   "execution_count": 8
  },
  {
   "metadata": {
    "ExecuteTime": {
     "end_time": "2025-03-28T15:02:23.328316Z",
     "start_time": "2025-03-28T15:02:23.308344Z"
    }
   },
   "cell_type": "code",
   "source": [
    "# Train model\n",
    "#train_music_model(model, dataloader, epochs=100, device=device)\n",
    "#OR\n",
    "# Load model\n",
    "model.load_state_dict(torch.load(\"models/epoch_21.pt\", map_location=device))\n",
    "model.to(device)"
   ],
   "id": "9d1b63a2b538b6d7",
   "outputs": [
    {
     "data": {
      "text/plain": [
       "MusicLSTM(\n",
       "  (embedding): Embedding(1408, 256)\n",
       "  (lstm): LSTM(256, 256, num_layers=2, batch_first=True, dropout=0.2)\n",
       "  (fc): Linear(in_features=256, out_features=1408, bias=True)\n",
       ")"
      ]
     },
     "execution_count": 15,
     "metadata": {},
     "output_type": "execute_result"
    }
   ],
   "execution_count": 15
  },
  {
   "metadata": {
    "ExecuteTime": {
     "end_time": "2025-03-28T15:02:25.036643Z",
     "start_time": "2025-03-28T15:02:23.871673Z"
    }
   },
   "cell_type": "code",
   "source": [
    "# Utilisation\n",
    "generated_music = generate_music(model, device, notes, note_to_int, int_to_note)\n",
    "output_name = get_output_name(\"generated_music\")\n",
    "save_generated_music_to_midi(generated_music, output_name)"
   ],
   "id": "6915eb370b6921b1",
   "outputs": [],
   "execution_count": 16
  },
  {
   "metadata": {},
   "cell_type": "code",
   "outputs": [],
   "execution_count": null,
   "source": "",
   "id": "a94583c11fa0a124"
  }
 ],
 "metadata": {
  "kernelspec": {
   "name": "python3",
   "language": "python",
   "display_name": "Python 3 (ipykernel)"
  }
 },
 "nbformat": 5,
 "nbformat_minor": 9
}
