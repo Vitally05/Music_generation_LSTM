{
 "cells": [
  {
   "cell_type": "markdown",
   "metadata": {},
   "source": [
    "## GENERATING A SONG"
   ]
  },
  {
   "cell_type": "code",
   "execution_count": 2,
   "metadata": {},
   "outputs": [],
   "source": [
    "import os\n",
    "import music21\n",
    "from music21 import converter, note, chord\n",
    "import pickle\n",
    "import numpy as np\n",
    "from keras.models import load_model"
   ]
  },
  {
   "cell_type": "code",
   "execution_count": 5,
   "metadata": {},
   "outputs": [
    {
     "ename": "ValueError",
     "evalue": "File format not supported: filepath=python_backend/model/. Keras 3 only supports V3 `.keras` files and legacy H5 format files (`.h5` extension). Note that the legacy SavedModel format is not supported by `load_model()` in Keras 3. In order to reload a TensorFlow SavedModel as an inference-only layer in Keras 3, use `keras.layers.TFSMLayer(python_backend/model/, call_endpoint='serving_default')` (note that your `call_endpoint` might have a different name).",
     "output_type": "error",
     "traceback": [
      "\u001b[31m---------------------------------------------------------------------------\u001b[39m",
      "\u001b[31mValueError\u001b[39m                                Traceback (most recent call last)",
      "\u001b[36mCell\u001b[39m\u001b[36m \u001b[39m\u001b[32mIn[5]\u001b[39m\u001b[32m, line 1\u001b[39m\n\u001b[32m----> \u001b[39m\u001b[32m1\u001b[39m model = \u001b[43mload_model\u001b[49m\u001b[43m(\u001b[49m\u001b[33;43m'\u001b[39;49m\u001b[33;43mpython_backend/model/\u001b[39;49m\u001b[33;43m'\u001b[39;49m\u001b[43m)\u001b[49m\n",
      "\u001b[36mFile \u001b[39m\u001b[32mc:\\Users\\vigou\\Documents\\GitHub\\Music_generation_LSTM\\.venv\\Lib\\site-packages\\keras\\src\\saving\\saving_api.py:206\u001b[39m, in \u001b[36mload_model\u001b[39m\u001b[34m(filepath, custom_objects, compile, safe_mode)\u001b[39m\n\u001b[32m    200\u001b[39m     \u001b[38;5;28;01mraise\u001b[39;00m \u001b[38;5;167;01mValueError\u001b[39;00m(\n\u001b[32m    201\u001b[39m         \u001b[33mf\u001b[39m\u001b[33m\"\u001b[39m\u001b[33mFile not found: filepath=\u001b[39m\u001b[38;5;132;01m{\u001b[39;00mfilepath\u001b[38;5;132;01m}\u001b[39;00m\u001b[33m. \u001b[39m\u001b[33m\"\u001b[39m\n\u001b[32m    202\u001b[39m         \u001b[33m\"\u001b[39m\u001b[33mPlease ensure the file is an accessible `.keras` \u001b[39m\u001b[33m\"\u001b[39m\n\u001b[32m    203\u001b[39m         \u001b[33m\"\u001b[39m\u001b[33mzip file.\u001b[39m\u001b[33m\"\u001b[39m\n\u001b[32m    204\u001b[39m     )\n\u001b[32m    205\u001b[39m \u001b[38;5;28;01melse\u001b[39;00m:\n\u001b[32m--> \u001b[39m\u001b[32m206\u001b[39m     \u001b[38;5;28;01mraise\u001b[39;00m \u001b[38;5;167;01mValueError\u001b[39;00m(\n\u001b[32m    207\u001b[39m         \u001b[33mf\u001b[39m\u001b[33m\"\u001b[39m\u001b[33mFile format not supported: filepath=\u001b[39m\u001b[38;5;132;01m{\u001b[39;00mfilepath\u001b[38;5;132;01m}\u001b[39;00m\u001b[33m. \u001b[39m\u001b[33m\"\u001b[39m\n\u001b[32m    208\u001b[39m         \u001b[33m\"\u001b[39m\u001b[33mKeras 3 only supports V3 `.keras` files and \u001b[39m\u001b[33m\"\u001b[39m\n\u001b[32m    209\u001b[39m         \u001b[33m\"\u001b[39m\u001b[33mlegacy H5 format files (`.h5` extension). \u001b[39m\u001b[33m\"\u001b[39m\n\u001b[32m    210\u001b[39m         \u001b[33m\"\u001b[39m\u001b[33mNote that the legacy SavedModel format is not \u001b[39m\u001b[33m\"\u001b[39m\n\u001b[32m    211\u001b[39m         \u001b[33m\"\u001b[39m\u001b[33msupported by `load_model()` in Keras 3. In \u001b[39m\u001b[33m\"\u001b[39m\n\u001b[32m    212\u001b[39m         \u001b[33m\"\u001b[39m\u001b[33morder to reload a TensorFlow SavedModel as an \u001b[39m\u001b[33m\"\u001b[39m\n\u001b[32m    213\u001b[39m         \u001b[33m\"\u001b[39m\u001b[33minference-only layer in Keras 3, use \u001b[39m\u001b[33m\"\u001b[39m\n\u001b[32m    214\u001b[39m         \u001b[33m\"\u001b[39m\u001b[33m`keras.layers.TFSMLayer(\u001b[39m\u001b[33m\"\u001b[39m\n\u001b[32m    215\u001b[39m         \u001b[33mf\u001b[39m\u001b[33m\"\u001b[39m\u001b[38;5;132;01m{\u001b[39;00mfilepath\u001b[38;5;132;01m}\u001b[39;00m\u001b[33m, call_endpoint=\u001b[39m\u001b[33m'\u001b[39m\u001b[33mserving_default\u001b[39m\u001b[33m'\u001b[39m\u001b[33m)` \u001b[39m\u001b[33m\"\u001b[39m\n\u001b[32m    216\u001b[39m         \u001b[33m\"\u001b[39m\u001b[33m(note that your `call_endpoint` \u001b[39m\u001b[33m\"\u001b[39m\n\u001b[32m    217\u001b[39m         \u001b[33m\"\u001b[39m\u001b[33mmight have a different name).\u001b[39m\u001b[33m\"\u001b[39m\n\u001b[32m    218\u001b[39m     )\n",
      "\u001b[31mValueError\u001b[39m: File format not supported: filepath=python_backend/model/. Keras 3 only supports V3 `.keras` files and legacy H5 format files (`.h5` extension). Note that the legacy SavedModel format is not supported by `load_model()` in Keras 3. In order to reload a TensorFlow SavedModel as an inference-only layer in Keras 3, use `keras.layers.TFSMLayer(python_backend/model/, call_endpoint='serving_default')` (note that your `call_endpoint` might have a different name)."
     ]
    }
   ],
   "source": [
    "model = load_model('python_backend/model/')"
   ]
  },
  {
   "cell_type": "code",
   "execution_count": 3,
   "metadata": {},
   "outputs": [],
   "source": [
    "# Define constants\n",
    "SEQUENCE_LENGTH = 100  # Adjust as needed\n",
    "EPOCHS = 100  # Adjust as needed\n",
    "BATCH_SIZE = 128  # Adjust as needed\n",
    "OUTPUT_FILE = 'output.mid'\n",
    "\n",
    "# Load Chopin MIDI files\n",
    "data_folder = 'data'\n",
    "files = [os.path.join(data_folder, file) for file \n",
    "         in os.listdir(data_folder) if file.endswith('.midi') or file.endswith('.mid')]\n",
    "\n",
    "def get_notes():\n",
    "    \"\"\" Get all the notes and chords from the MIDI files in the specified directory \"\"\"\n",
    "    notes = []\n",
    "\n",
    "    for file in files:\n",
    "        midi = converter.parse(file)\n",
    "        print(\"Parsing %s\" % file)\n",
    "        notes_to_parse = midi.flatten()\n",
    "        for element in notes_to_parse:\n",
    "            if isinstance(element, note.Note):\n",
    "                notes.append(str(element.pitch))\n",
    "            elif isinstance(element, chord.Chord):\n",
    "                notes.append('.'.join(str(n) for n in element.pitches))\n",
    "    return notes\n",
    "\n",
    "notes_file_path = 'data/notes'\n",
    "notes = []\n",
    "\n",
    "if os.path.exists(notes_file_path):\n",
    "    # Loading notes from the file\n",
    "    with open('data/notes', 'rb') as filepath:\n",
    "        notes = pickle.load(filepath)\n",
    "else:\n",
    "    # createing a list of ntoes\n",
    "    notes = get_notes()\n",
    "    # saving notes to the file:\n",
    "    with open('data/notes', 'wb') as filepath:\n",
    "        pickle.dump(notes, filepath)\n",
    "\n",
    "# Create input sequences and corresponding output\n",
    "unique_notes = sorted(set(notes))\n",
    "note_to_int = dict((note, number) for number, note in enumerate(unique_notes))\n",
    "int_to_note = dict((number, note) for number, note in enumerate(unique_notes))\n",
    "\n",
    "input_sequences = []\n",
    "output_sequences = []\n",
    "for i in range(len(notes) - SEQUENCE_LENGTH):\n",
    "    sequence_in = notes[i:i + SEQUENCE_LENGTH]\n",
    "    sequence_out = notes[i + SEQUENCE_LENGTH]\n",
    "    input_sequences.append([note_to_int[char] for char in sequence_in])\n",
    "    output_sequences.append(note_to_int[sequence_out])\n"
   ]
  },
  {
   "cell_type": "code",
   "execution_count": 115,
   "metadata": {},
   "outputs": [],
   "source": [
    "start = np.random.randint(0, len(input_sequences) - 1)"
   ]
  },
  {
   "cell_type": "code",
   "execution_count": 118,
   "metadata": {},
   "outputs": [
    {
     "name": "stdout",
     "output_type": "stream",
     "text": [
      "0/100 | F#3\n",
      "1/100 | B-4\n",
      "2/100 | G#4\n",
      "3/100 | C#3\n",
      "4/100 | F#4\n",
      "5/100 | F#2\n",
      "6/100 | F#4\n",
      "7/100 | C#3\n",
      "8/100 | E-5\n",
      "9/100 | F#3\n",
      "10/100 | E4.C#5\n",
      "11/100 | B2\n",
      "12/100 | F#4\n",
      "13/100 | F#3\n",
      "14/100 | B-4\n",
      "15/100 | E-4\n",
      "16/100 | F#4\n",
      "17/100 | B3\n",
      "18/100 | G4\n",
      "19/100 | C#3\n",
      "20/100 | F#4\n",
      "21/100 | F#2\n",
      "22/100 | F#4\n",
      "23/100 | C#3\n",
      "24/100 | E-5\n",
      "25/100 | F#3\n",
      "26/100 | E4.C#5\n",
      "27/100 | B2\n",
      "28/100 | E-5.F#5\n",
      "29/100 | F#3\n",
      "30/100 | E4.C#5\n",
      "31/100 | B2\n",
      "32/100 | F#4\n",
      "33/100 | F#3\n",
      "34/100 | B4.E-5\n",
      "35/100 | E-3\n",
      "36/100 | F#4\n",
      "37/100 | B3\n",
      "38/100 | G4\n",
      "39/100 | C#3\n",
      "40/100 | F#4\n",
      "41/100 | F#2\n",
      "42/100 | F#4\n",
      "43/100 | C#3\n",
      "44/100 | E-5\n",
      "45/100 | F#3\n",
      "46/100 | E4.C#5\n",
      "47/100 | B2\n",
      "48/100 | F#4\n",
      "49/100 | F#3\n",
      "50/100 | B-4\n",
      "51/100 | B2\n",
      "52/100 | F#4\n",
      "53/100 | F#3\n",
      "54/100 | B-4\n",
      "55/100 | B3\n",
      "56/100 | F#4\n",
      "57/100 | E-3\n",
      "58/100 | B-4\n",
      "59/100 | E-4\n",
      "60/100 | F#4\n",
      "61/100 | E-4\n",
      "62/100 | B4\n",
      "63/100 | E-4\n",
      "64/100 | F#4\n",
      "65/100 | E3\n",
      "66/100 | B-3\n",
      "67/100 | C#4\n",
      "68/100 | F#4\n",
      "69/100 | B3\n",
      "70/100 | B-4\n",
      "71/100 | E-4\n",
      "72/100 | F#4\n",
      "73/100 | F#3\n",
      "74/100 | B-4\n",
      "75/100 | E-4\n",
      "76/100 | F#4\n",
      "77/100 | B3\n",
      "78/100 | C#5\n",
      "79/100 | C#5\n",
      "80/100 | F#4\n",
      "81/100 | F#3\n",
      "82/100 | F#2\n",
      "83/100 | F#2\n",
      "84/100 | F#4\n",
      "85/100 | B3\n",
      "86/100 | B3\n",
      "87/100 | E-5\n",
      "88/100 | F#3\n",
      "89/100 | E4\n",
      "90/100 | F#2\n",
      "91/100 | F#4\n",
      "92/100 | E-2\n",
      "93/100 | B3\n",
      "94/100 | E-3\n",
      "95/100 | F#4\n",
      "96/100 | B-3\n",
      "97/100 | F#2\n",
      "98/100 | F#3\n",
      "99/100 | C#4\n"
     ]
    }
   ],
   "source": [
    "pattern = input_sequences[start]\n",
    "prediction_output = []\n",
    "number_of_notes_to_generate = 100\n",
    "for i in range(number_of_notes_to_generate):\n",
    "    input_sequence = np.reshape(pattern, (1, len(pattern), 1))\n",
    "    input_sequence = input_sequence / float(len(unique_notes))\n",
    "\n",
    "    prediction = model.predict(input_sequence, verbose=0)\n",
    "    index = np.argmax(prediction)\n",
    "    result = int_to_note[index]\n",
    "    print(f\"{i}/{number_of_notes_to_generate} | {result}\")\n",
    "    prediction_output.append(result)\n",
    "    pattern.append(index)\n",
    "    pattern = pattern[1:]"
   ]
  },
  {
   "cell_type": "code",
   "execution_count": 120,
   "metadata": {},
   "outputs": [
    {
     "data": {
      "text/plain": [
       "'output.mid'"
      ]
     },
     "execution_count": 120,
     "metadata": {},
     "output_type": "execute_result"
    }
   ],
   "source": [
    "# Convert output to MIDI file\n",
    "output_midi = music21.stream.Stream()\n",
    "shift = 0\n",
    "for pattern in prediction_output:\n",
    "    if '.' in pattern:   # it's a chord\n",
    "        notes_in_chord = pattern.split('.') # notes for the chord (numbers)\n",
    "        chord_notes = [music21.note.Note() for _ in notes_in_chord] # real notes\n",
    "        for i, note_in_chord in enumerate(notes_in_chord):\n",
    "            chord_notes[i].pitch = music21.pitch.Pitch(note_in_chord)\n",
    "        chord = music21.chord.Chord(chord_notes, quarterlength=0.5) # the chord per se\n",
    "        output_midi.insert(shift, chord) # adding the chord to the stream\n",
    "        shift += 0.3\n",
    "    else:   # it's a note\n",
    "        note = music21.note.Note(quarterlength=0.5)\n",
    "        note.pitch = music21.pitch.Pitch(pattern)\n",
    "        output_midi.insert(shift, note) # adding the note to the stream\n",
    "        shift += 0.3\n",
    "\n",
    "output_midi.write('midi', fp=OUTPUT_FILE)"
   ]
  }
 ],
 "metadata": {
  "kernelspec": {
   "display_name": ".venv",
   "language": "python",
   "name": "python3"
  },
  "language_info": {
   "codemirror_mode": {
    "name": "ipython",
    "version": 3
   },
   "file_extension": ".py",
   "mimetype": "text/x-python",
   "name": "python",
   "nbconvert_exporter": "python",
   "pygments_lexer": "ipython3",
   "version": "3.12.8"
  }
 },
 "nbformat": 4,
 "nbformat_minor": 2
}
