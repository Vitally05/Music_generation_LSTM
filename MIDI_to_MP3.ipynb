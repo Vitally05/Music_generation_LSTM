{
 "cells": [
  {
   "metadata": {
    "ExecuteTime": {
     "end_time": "2025-03-26T15:13:08.694378Z",
     "start_time": "2025-03-26T15:13:08.691937Z"
    }
   },
   "cell_type": "code",
   "source": [
    "from pydub import AudioSegment\n",
    "import pygame.midi\n",
    "import time\n",
    "import os"
   ],
   "id": "f31e1d9bb2f00241",
   "outputs": [],
   "execution_count": 7
  },
  {
   "metadata": {
    "ExecuteTime": {
     "end_time": "2025-03-26T15:13:08.702925Z",
     "start_time": "2025-03-26T15:13:08.698385Z"
    }
   },
   "cell_type": "code",
   "source": [
    "def midi_to_wav(midi_path, wav_path):\n",
    "    pygame.midi.init()\n",
    "    player = pygame.midi.Output(0)\n",
    "    midi = pygame.midi.Input(pygame.midi.get_default_input_id())\n",
    "\n",
    "    # Utilise timidity pour convertir MIDI → WAV\n",
    "    os.system(f\"timidity {midi_path} -Ow -o {wav_path}\")\n",
    "\n",
    "def wav_to_mp3(wav_path, mp3_path):\n",
    "    audio = AudioSegment.from_wav(wav_path)\n",
    "    audio.export(mp3_path, format=\"mp3\")\n",
    "\n",
    "def convert_midi_to_mp3(midi_path, mp3_path):\n",
    "    temp_wav = \"temp_output.wav\"\n",
    "    midi_to_wav(midi_path, temp_wav)\n",
    "    wav_to_mp3(temp_wav, mp3_path)\n",
    "    os.remove(temp_wav)"
   ],
   "id": "22ab0707cf4ad4ae",
   "outputs": [],
   "execution_count": 8
  },
  {
   "metadata": {
    "ExecuteTime": {
     "end_time": "2025-03-26T15:13:08.740062Z",
     "start_time": "2025-03-26T15:13:08.707947Z"
    }
   },
   "cell_type": "code",
   "source": [
    "# Exemple d'utilisation :\n",
    "convert_midi_to_mp3(\"generated_music.mid\", \"exemple.mp3\")"
   ],
   "id": "6f62c7f0ea8222d",
   "outputs": [
    {
     "ename": "Exception",
     "evalue": "b\"PortMidi: `Invalid device ID'\"",
     "output_type": "error",
     "traceback": [
      "\u001B[31m---------------------------------------------------------------------------\u001B[39m",
      "\u001B[31mException\u001B[39m                                 Traceback (most recent call last)",
      "\u001B[36mCell\u001B[39m\u001B[36m \u001B[39m\u001B[32mIn[9]\u001B[39m\u001B[32m, line 2\u001B[39m\n\u001B[32m      1\u001B[39m \u001B[38;5;66;03m# Exemple d'utilisation :\u001B[39;00m\n\u001B[32m----> \u001B[39m\u001B[32m2\u001B[39m \u001B[43mconvert_midi_to_mp3\u001B[49m\u001B[43m(\u001B[49m\u001B[33;43m\"\u001B[39;49m\u001B[33;43mgenerated_music.mid\u001B[39;49m\u001B[33;43m\"\u001B[39;49m\u001B[43m,\u001B[49m\u001B[43m \u001B[49m\u001B[33;43m\"\u001B[39;49m\u001B[33;43mexemple.mp3\u001B[39;49m\u001B[33;43m\"\u001B[39;49m\u001B[43m)\u001B[49m\n",
      "\u001B[36mCell\u001B[39m\u001B[36m \u001B[39m\u001B[32mIn[8]\u001B[39m\u001B[32m, line 15\u001B[39m, in \u001B[36mconvert_midi_to_mp3\u001B[39m\u001B[34m(midi_path, mp3_path)\u001B[39m\n\u001B[32m     13\u001B[39m \u001B[38;5;28;01mdef\u001B[39;00m\u001B[38;5;250m \u001B[39m\u001B[34mconvert_midi_to_mp3\u001B[39m(midi_path, mp3_path):\n\u001B[32m     14\u001B[39m     temp_wav = \u001B[33m\"\u001B[39m\u001B[33mtemp_output.wav\u001B[39m\u001B[33m\"\u001B[39m\n\u001B[32m---> \u001B[39m\u001B[32m15\u001B[39m     \u001B[43mmidi_to_wav\u001B[49m\u001B[43m(\u001B[49m\u001B[43mmidi_path\u001B[49m\u001B[43m,\u001B[49m\u001B[43m \u001B[49m\u001B[43mtemp_wav\u001B[49m\u001B[43m)\u001B[49m\n\u001B[32m     16\u001B[39m     wav_to_mp3(temp_wav, mp3_path)\n\u001B[32m     17\u001B[39m     os.remove(temp_wav)\n",
      "\u001B[36mCell\u001B[39m\u001B[36m \u001B[39m\u001B[32mIn[8]\u001B[39m\u001B[32m, line 3\u001B[39m, in \u001B[36mmidi_to_wav\u001B[39m\u001B[34m(midi_path, wav_path)\u001B[39m\n\u001B[32m      1\u001B[39m \u001B[38;5;28;01mdef\u001B[39;00m\u001B[38;5;250m \u001B[39m\u001B[34mmidi_to_wav\u001B[39m(midi_path, wav_path):\n\u001B[32m      2\u001B[39m     pygame.midi.init()\n\u001B[32m----> \u001B[39m\u001B[32m3\u001B[39m     player = \u001B[43mpygame\u001B[49m\u001B[43m.\u001B[49m\u001B[43mmidi\u001B[49m\u001B[43m.\u001B[49m\u001B[43mOutput\u001B[49m\u001B[43m(\u001B[49m\u001B[32;43m0\u001B[39;49m\u001B[43m)\u001B[49m\n\u001B[32m      4\u001B[39m     midi = pygame.midi.Input(pygame.midi.get_default_input_id())\n\u001B[32m      6\u001B[39m     \u001B[38;5;66;03m# Utilise timidity pour convertir MIDI → WAV\u001B[39;00m\n",
      "\u001B[36mFile \u001B[39m\u001B[32m~\\Documents\\GitHub\\Music_generation_LSTM\\.venv\\Lib\\site-packages\\pygame\\midi.py:423\u001B[39m, in \u001B[36mOutput.__init__\u001B[39m\u001B[34m(self, device_id, latency, buffer_size)\u001B[39m\n\u001B[32m    421\u001B[39m \u001B[38;5;28;01mif\u001B[39;00m is_output:\n\u001B[32m    422\u001B[39m     \u001B[38;5;28;01mtry\u001B[39;00m:\n\u001B[32m--> \u001B[39m\u001B[32m423\u001B[39m         \u001B[38;5;28mself\u001B[39m._output = \u001B[43m_pypm\u001B[49m\u001B[43m.\u001B[49m\u001B[43mOutput\u001B[49m\u001B[43m(\u001B[49m\u001B[43mdevice_id\u001B[49m\u001B[43m,\u001B[49m\u001B[43m \u001B[49m\u001B[43mlatency\u001B[49m\u001B[43m,\u001B[49m\u001B[43m \u001B[49m\u001B[43mbuffer_size\u001B[49m\u001B[43m)\u001B[49m\n\u001B[32m    424\u001B[39m     \u001B[38;5;28;01mexcept\u001B[39;00m \u001B[38;5;167;01mTypeError\u001B[39;00m:\n\u001B[32m    425\u001B[39m         \u001B[38;5;28;01mraise\u001B[39;00m \u001B[38;5;167;01mTypeError\u001B[39;00m(\u001B[33m\"\u001B[39m\u001B[33man integer is required\u001B[39m\u001B[33m\"\u001B[39m)\n",
      "\u001B[36mFile \u001B[39m\u001B[32msrc_c\\\\cython\\\\pygame\\\\pypm.pyx:301\u001B[39m, in \u001B[36mpygame.pypm.Output.__init__\u001B[39m\u001B[34m()\u001B[39m\n",
      "\u001B[31mException\u001B[39m: b\"PortMidi: `Invalid device ID'\""
     ]
    }
   ],
   "execution_count": 9
  }
 ],
 "metadata": {
  "kernelspec": {
   "display_name": "Python 3",
   "language": "python",
   "name": "python3"
  },
  "language_info": {
   "codemirror_mode": {
    "name": "ipython",
    "version": 2
   },
   "file_extension": ".py",
   "mimetype": "text/x-python",
   "name": "python",
   "nbconvert_exporter": "python",
   "pygments_lexer": "ipython2",
   "version": "2.7.6"
  }
 },
 "nbformat": 4,
 "nbformat_minor": 5
}
